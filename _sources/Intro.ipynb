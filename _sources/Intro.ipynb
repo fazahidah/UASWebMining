{
 "metadata": {
  "language_info": {
   "codemirror_mode": {
    "name": "ipython",
    "version": 3
   },
   "file_extension": ".py",
   "mimetype": "text/x-python",
   "name": "python",
   "nbconvert_exporter": "python",
   "pygments_lexer": "ipython3",
   "version": 3
  },
  "orig_nbformat": 2
 },
 "nbformat": 4,
 "nbformat_minor": 2,
 "cells": [
  {
   "cell_type": "markdown",
   "metadata": {},
   "source": [
    "Nama     : Fatin Zahidah Mas'ud\n",
    "\n",
    "NIM      : 190411100129"
   ]
  },
  {
   "cell_type": "markdown",
   "metadata": {},
   "source": [
    "\n",
    "<img align=\"center\" src=\"https://tinyimg.io/i/PATneGe.png\" alt=\"image\" width=\"200\"/>"
   ]
  }
 ]
}